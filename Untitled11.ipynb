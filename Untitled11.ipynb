{
  "nbformat": 4,
  "nbformat_minor": 0,
  "metadata": {
    "colab": {
      "provenance": []
    },
    "kernelspec": {
      "name": "python3",
      "display_name": "Python 3"
    },
    "language_info": {
      "name": "python"
    }
  },
  "cells": [
    {
      "cell_type": "markdown",
      "source": [
        "Question 1- Write a Python program to replace all occurrences of a space, comma, or dot with a colon.\n",
        "\n",
        "Sample Text- 'Python Exercises, PHP exercises.'\n",
        "\n",
        "Expected Output: Python:Exercises::PHP:exercises:"
      ],
      "metadata": {
        "id": "LI5GZQ45F9wb"
      }
    },
    {
      "cell_type": "code",
      "execution_count": 2,
      "metadata": {
        "colab": {
          "base_uri": "https://localhost:8080/"
        },
        "id": "pq_2ntOjAP1e",
        "outputId": "7ae621e9-e907-4948-e0de-ca136e88293a"
      },
      "outputs": [
        {
          "output_type": "stream",
          "name": "stdout",
          "text": [
            "Python:Exercises::PHP:exercises:'\n"
          ]
        }
      ],
      "source": [
        "def replace_characters(text):\n",
        "    for char in [' ', ',', '.']:\n",
        "        text = text.replace(char, ':')\n",
        "    return text\n",
        "s = replace_characters(\"Python Exercises, PHP exercises.'\")\n",
        "print(s)"
      ]
    },
    {
      "cell_type": "markdown",
      "source": [
        "Question 2-  Create a dataframe using the dictionary below and remove everything (commas (,), !, XXXX, ;, etc.) from the columns except words.\n",
        "\n",
        "Dictionary- {'SUMMARY' : ['hello, world!', 'XXXXX test', '123four, five:; six...']}\n",
        "\n",
        "Expected output-\n",
        "\n",
        "0      hello world\n",
        "\n",
        "1             test\n",
        "\n",
        "2    four five six"
      ],
      "metadata": {
        "id": "v7Go30g2GT0M"
      }
    },
    {
      "cell_type": "code",
      "source": [
        "import pandas as pd\n",
        "import re\n",
        "\n",
        "# Input dictionary\n",
        "data = {'SUMMARY': ['hello, world!', 'XXXX test', '123four, five:; six...']}\n",
        "\n",
        "# Create DataFrame\n",
        "df = pd.DataFrame(data)\n",
        "\n",
        "# Function to clean text\n",
        "def clean_text(text):\n",
        "    # Remove non-word characters using regex\n",
        "    cleaned_text = re.sub(r'[^\\w\\s]|123|XXXX', '', text)\n",
        "    return cleaned_text\n",
        "\n",
        "# Apply the clean_text function to each element in the 'SUMMARY' column\n",
        "df['SUMMARY'] = df['SUMMARY'].apply(clean_text)\n",
        "\n",
        "# Output the cleaned DataFrame\n",
        "print(df)"
      ],
      "metadata": {
        "colab": {
          "base_uri": "https://localhost:8080/"
        },
        "id": "rKQNaSZ0GEDg",
        "outputId": "7d1a45b4-cd30-4019-a64e-f63acc9028cf"
      },
      "execution_count": 6,
      "outputs": [
        {
          "output_type": "stream",
          "name": "stdout",
          "text": [
            "         SUMMARY\n",
            "0    hello world\n",
            "1           test\n",
            "2  four five six\n"
          ]
        }
      ]
    },
    {
      "cell_type": "markdown",
      "source": [
        "Question 3- Create a function in python to find all words that are at least 4 characters long in a string. The use of the re.compile() method is mandatory."
      ],
      "metadata": {
        "id": "556XhR0LHZqz"
      }
    },
    {
      "cell_type": "code",
      "source": [
        "import re\n",
        "\n",
        "def findlongwords(text):\n",
        "    pattern = re.compile(r'\\b\\w{4,}\\b')\n",
        "    long_words = pattern.findall(text)\n",
        "    return long_words\n",
        "\n",
        "s = \"hi my name is harsht kalucha\"\n",
        "print(findlongwords(s))"
      ],
      "metadata": {
        "colab": {
          "base_uri": "https://localhost:8080/"
        },
        "id": "Q8Hnp67mHdEO",
        "outputId": "4a25a5cb-7e35-4f84-dd6e-4a9038e7c462"
      },
      "execution_count": 7,
      "outputs": [
        {
          "output_type": "stream",
          "name": "stdout",
          "text": [
            "['name', 'harsht', 'kalucha']\n"
          ]
        }
      ]
    },
    {
      "cell_type": "markdown",
      "source": [
        "Question 4- Create a function in python to find all three, four, and five character words in a string. The use of the re.compile() method is mandatory."
      ],
      "metadata": {
        "id": "nbZyfehXHwzl"
      }
    },
    {
      "cell_type": "code",
      "source": [
        "import re\n",
        "\n",
        "def findwords(text):\n",
        "    pattern = re.compile(r'\\b\\w{3,5}\\b')\n",
        "    words = pattern.findall(text)\n",
        "    return words\n",
        "s = \"hello my name is harshit and i am a python developer\"\n",
        "print(findwords(s))\n",
        ""
      ],
      "metadata": {
        "colab": {
          "base_uri": "https://localhost:8080/"
        },
        "id": "WqPw1cdjHxut",
        "outputId": "951aa873-cdc1-4f6f-b4e4-14144a127152"
      },
      "execution_count": 8,
      "outputs": [
        {
          "output_type": "stream",
          "name": "stdout",
          "text": [
            "['hello', 'name', 'and']\n"
          ]
        }
      ]
    },
    {
      "cell_type": "markdown",
      "source": [
        "Question 5- Create a function in Python to remove the parenthesis in a list of strings. The use of the re.compile() method is mandatory.\n",
        "\n",
        "Sample Text: [\"example (.com)\", \"hr@fliprobo (.com)\", \"github (.com)\", \"Hello (Data Science World)\", \"Data (Scientist)\"]\n",
        "\n",
        "Expected Output:\n",
        "\n",
        "example.com\n",
        "\n",
        "hr@fliprobo.com\n",
        "\n",
        "github.com\n",
        "\n",
        "Hello Data Science World\n",
        "\n",
        "Data Scientist"
      ],
      "metadata": {
        "id": "Mn4at1ugIA3W"
      }
    },
    {
      "cell_type": "code",
      "source": [
        "import re\n",
        "\n",
        "def removeparentheses(strings):\n",
        "    pattern = re.compile(r'[\\(\\)]')\n",
        "    updated_strings = []\n",
        "    for string in strings:\n",
        "        updated_string = pattern.sub(r'', string)\n",
        "        updated_strings.append(updated_string)\n",
        "    return updated_strings\n",
        "\n",
        "s=[\"example (.com)\", \"hr@fliprobo (.com)\", \"github (.com)\", \"Hello (Data Science World)\", \"Data (Scientist)\"]\n",
        "print(removeparentheses(s))"
      ],
      "metadata": {
        "colab": {
          "base_uri": "https://localhost:8080/"
        },
        "id": "b_bXTjHVIH0V",
        "outputId": "73cbdfa4-4922-4cc8-f723-ce5af1209bc9"
      },
      "execution_count": 24,
      "outputs": [
        {
          "output_type": "stream",
          "name": "stdout",
          "text": [
            "['example .com', 'hr@fliprobo .com', 'github .com', 'Hello Data Science World', 'Data Scientist']\n"
          ]
        }
      ]
    },
    {
      "cell_type": "markdown",
      "source": [
        "Question 6- Write a python program to remove the parenthesis area from the text stored in the text file using Regular Expression.\n",
        "\n",
        "Sample Text: [\"example (.com)\", \"hr@fliprobo (.com)\", \"github (.com)\", \"Hello (Data Science World)\", \"Data (Scientist)\"]\n",
        "\n",
        "Expected Output: [\"example\", \"hr@fliprobo\", \"github\", \"Hello\", \"Data\"]\n",
        "\n",
        "Note- Store given sample text in the text file and then to remove the parenthesis area from the text."
      ],
      "metadata": {
        "id": "isA5hqvkLY7L"
      }
    },
    {
      "cell_type": "code",
      "source": [
        "import re\n",
        "\n",
        "def remove_parenthesis_from_file(filename):\n",
        "    with open(filename, 'r') as file:\n",
        "        text = file.read()\n",
        "\n",
        "    pattern = re.compile(r'[\\(\\)]')\n",
        "    updated_text = pattern.sub('', text)\n",
        "\n",
        "    with open(filename, 'w') as file:\n",
        "        file.write(updated_text)\n",
        "\n",
        "filename = \"s_text.txt\"  # Replace with the actual filename\n",
        "remove_parenthesis_from_file(filename)"
      ],
      "metadata": {
        "id": "uSDseU5QIKqo"
      },
      "execution_count": null,
      "outputs": []
    },
    {
      "cell_type": "markdown",
      "source": [
        "Question 7- Write a regular expression in Python to split a string into uppercase letters.\n",
        "\n",
        "Sample text: “ImportanceOfRegularExpressionsInPython”\n",
        "\n",
        "Expected Output: [‘Importance’, ‘Of’, ‘Regular’, ‘Expression’, ‘In’, ‘Python’]\n",
        "\n",
        ""
      ],
      "metadata": {
        "id": "xk1PULKFL0y4"
      }
    },
    {
      "cell_type": "code",
      "source": [
        "import re\n",
        "\n",
        "sample_text = \"ImportanceOfRegularExpressionsInPython\"\n",
        "split_text = re.findall(r'[A-Z][a-z]*', sample_text)\n",
        "print(split_text)"
      ],
      "metadata": {
        "colab": {
          "base_uri": "https://localhost:8080/"
        },
        "id": "zf2MZeugL3jt",
        "outputId": "b98fbe3f-35bd-48e7-c978-25ed5293df45"
      },
      "execution_count": 26,
      "outputs": [
        {
          "output_type": "stream",
          "name": "stdout",
          "text": [
            "['Importance', 'Of', 'Regular', 'Expressions', 'In', 'Python']\n"
          ]
        }
      ]
    },
    {
      "cell_type": "markdown",
      "source": [
        "Question 8- Create a function in python to insert spaces between words starting with numbers.\n",
        "\n",
        "Sample Text: “RegularExpression1IsAn2ImportantTopic3InPython\"\n",
        "\n",
        "Expected Output: RegularExpression 1IsAn 2ImportantTopic 3InPython"
      ],
      "metadata": {
        "id": "4nRm0dF4L6u8"
      }
    },
    {
      "cell_type": "code",
      "source": [
        "import re\n",
        "\n",
        "def insert_spaces(text):\n",
        "    # Use re.sub to insert spaces between words starting with numbers\n",
        "    result = re.sub(r'(?<=[a-zA-Z])(\\d)', r' \\1', text)\n",
        "\n",
        "    return result\n",
        "\n",
        "# Sample text\n",
        "sample_text = \"RegularExpression1IsAn2ImportantTopic3InPython\"\n",
        "\n",
        "# Apply the function and print the result\n",
        "output = insert_spaces(sample_text)\n",
        "print(output)"
      ],
      "metadata": {
        "colab": {
          "base_uri": "https://localhost:8080/"
        },
        "id": "CM-eMzR5L8yE",
        "outputId": "ef2163a5-fd39-467c-aa62-fe3e4c367518"
      },
      "execution_count": 31,
      "outputs": [
        {
          "output_type": "stream",
          "name": "stdout",
          "text": [
            "RegularExpression 1IsAn 2ImportantTopic 3InPython\n"
          ]
        }
      ]
    },
    {
      "cell_type": "markdown",
      "source": [
        "Question 9- Create a function in python to insert spaces between words starting with capital letters or with numbers.\n",
        "\n",
        "Sample Text: “RegularExpression1IsAn2ImportantTopic3InPython\"\n",
        "\n",
        "Expected Output:  RegularExpression 1 IsAn 2 ImportantTopic 3 InPython"
      ],
      "metadata": {
        "id": "jXRJ6ZMvNJNb"
      }
    },
    {
      "cell_type": "code",
      "source": [
        "import re\n",
        "\n",
        "def insert_spaces(text):\n",
        "    # Use re.sub to insert spaces between words starting with capital letters or numbers\n",
        "    result = re.sub(r'(?<=[a-zA-Z0-9])([A-Z0-9])', r' \\1', text)\n",
        "\n",
        "    return result\n",
        "\n",
        "# Sample text\n",
        "sample_text = \"RegularExpression1IsAn2ImportantTopic3InPython\"\n",
        "\n",
        "# Apply the function and print the result\n",
        "output = insert_spaces(sample_text)\n",
        "print(output)\n"
      ],
      "metadata": {
        "colab": {
          "base_uri": "https://localhost:8080/"
        },
        "id": "QFqA7f0uNLLF",
        "outputId": "63e33c23-20ab-4bd0-c849-b28f20c0b403"
      },
      "execution_count": 33,
      "outputs": [
        {
          "output_type": "stream",
          "name": "stdout",
          "text": [
            "Regular Expression 1 Is An 2 Important Topic 3 In Python\n"
          ]
        }
      ]
    },
    {
      "cell_type": "markdown",
      "source": [
        "Question 10- Use the github link below to read the data and create a dataframe. After creating the dataframe extract the first 6 letters of each country and store in the dataframe under a new column called first_five_letters.\n",
        "\n",
        "Github Link-  https://raw.githubusercontent.com/dsrscientist/DSData/master/happiness_score_dataset.csv\n",
        "\n",
        ""
      ],
      "metadata": {
        "id": "nexpvSrZNmK7"
      }
    },
    {
      "cell_type": "code",
      "source": [
        "import pandas as pd\n",
        "\n",
        "data = pd.read_csv('https://raw.githubusercontent.com/dsrscientist/DSData/master/happiness_score_dataset.csv')\n",
        "\n",
        "df = pd.DataFrame(data)\n",
        "\n",
        "df['first_five_letters'] = df['Country'].str[:6]\n",
        "\n",
        "print(df)\n",
        "\n",
        ""
      ],
      "metadata": {
        "id": "w0vZF7vmNtdD"
      },
      "execution_count": null,
      "outputs": []
    },
    {
      "cell_type": "markdown",
      "source": [
        "Question 11- Write a Python program to match a string that contains only upper and lowercase letters, numbers, and underscores."
      ],
      "metadata": {
        "id": "NeME3pZDN-N5"
      }
    },
    {
      "cell_type": "code",
      "source": [
        "import re\n",
        "\n",
        "def is_valid_string(string):\n",
        "    pattern = r'^[A-Za-z0-9_]+$'\n",
        "    return re.match(pattern, string) is not None\n",
        "\n",
        "# Test the function\n",
        "test_strings = ['HelloWcpluplus123', 'haabc123', 'abc$', '123!', '']\n",
        "\n",
        "for string in test_strings:\n",
        "    if is_valid_string(string):\n",
        "        print(f\"{string} is a valid string.\")\n",
        "    else:\n",
        "        print(f\"{string} is not a valid string.\")"
      ],
      "metadata": {
        "colab": {
          "base_uri": "https://localhost:8080/"
        },
        "id": "AoLr0VYzOEWS",
        "outputId": "16dfe5f0-9d22-4348-ecd7-91fc7ac288a3"
      },
      "execution_count": 39,
      "outputs": [
        {
          "output_type": "stream",
          "name": "stdout",
          "text": [
            "HelloWcpluplus123 is a valid string.\n",
            "haabc123 is a valid string.\n",
            "abc$ is not a valid string.\n",
            "123! is not a valid string.\n",
            " is not a valid string.\n"
          ]
        }
      ]
    },
    {
      "cell_type": "markdown",
      "source": [
        "Question 12- Write a Python program where a string will start with a specific number.  "
      ],
      "metadata": {
        "id": "mtGf_wP0OYfF"
      }
    },
    {
      "cell_type": "code",
      "source": [
        "test_cases = [\n",
        "    ('1332345', 12),\n",
        "    ('ws56789', 56),\n",
        "    ('987654', 0),\n",
        "    ('abc123', 123),\n",
        "    ('987abc', 987)\n",
        "]\n",
        "def start_with_number(string, number):\n",
        "    return string.startswith(str(number))\n",
        "for string, number in test_cases:\n",
        "    if start_with_number(string, number):\n",
        "        print(f\"{string} starts with {number}.\")\n",
        "    else:\n",
        "        print(f\"{string} does not start with {number}.\")"
      ],
      "metadata": {
        "colab": {
          "base_uri": "https://localhost:8080/"
        },
        "id": "jkLyFE2DOblw",
        "outputId": "e6f3907d-7ec1-40c1-f631-5d74c9bcdfaf"
      },
      "execution_count": 41,
      "outputs": [
        {
          "output_type": "stream",
          "name": "stdout",
          "text": [
            "1332345 does not start with 12.\n",
            "ws56789 does not start with 56.\n",
            "987654 does not start with 0.\n",
            "abc123 does not start with 123.\n",
            "987abc starts with 987.\n"
          ]
        }
      ]
    },
    {
      "cell_type": "markdown",
      "source": [
        "Question 13- Write a Python program to remove leading zeros from an IP address\n",
        "\n",
        "   components = ip_address.split('.')\n",
        "    stripped_components = [str(int(component)) for component in components]\n",
        "    return '.'.join(stripped_components)"
      ],
      "metadata": {
        "id": "-Rm_L0u5OnUe"
      }
    },
    {
      "cell_type": "code",
      "source": [
        "\n",
        "def remove_leading_zeros(ip_address):\n",
        "  components = ip_address.split('.')\n",
        "  stripped_components = [str(int(component)) for component in components]\n",
        "  return '.'.join(stripped_components)\n",
        "\n",
        "# Test the function\n",
        "test_cases = [\n",
        "    '192.168.001.001',\n",
        "    '010.001.001.001',\n",
        "    '000.000.000.000',\n",
        "    '005.006.007.008',\n",
        "    '123.045.067.089'\n",
        "]\n",
        "\n",
        "for ip_address in test_cases:\n",
        "    result = remove_leading_zeros(ip_address)\n",
        "    print(f\"Original IP: {ip_address} and Stripped IP (remove zeroes): {result}\")\n",
        "\n",
        "\n",
        "\n",
        ""
      ],
      "metadata": {
        "colab": {
          "base_uri": "https://localhost:8080/"
        },
        "id": "hwpvmquAOo33",
        "outputId": "3bda1007-898d-47cc-c892-132c7444aae6"
      },
      "execution_count": 45,
      "outputs": [
        {
          "output_type": "stream",
          "name": "stdout",
          "text": [
            "Original IP: 192.168.001.001 and Stripped IP (remove zeroes): 192.168.1.1\n",
            "Original IP: 010.001.001.001 and Stripped IP (remove zeroes): 10.1.1.1\n",
            "Original IP: 000.000.000.000 and Stripped IP (remove zeroes): 0.0.0.0\n",
            "Original IP: 005.006.007.008 and Stripped IP (remove zeroes): 5.6.7.8\n",
            "Original IP: 123.045.067.089 and Stripped IP (remove zeroes): 123.45.67.89\n"
          ]
        }
      ]
    },
    {
      "cell_type": "markdown",
      "source": [
        "Question 14- Write a regular expression in python to match a date string in the form of Month name followed by day number and year stored in a text file.\n",
        "Sample text :  ' On August 15th 1947 that India was declared independent from British colonialism, and the reins of control were handed over to the leaders of the Country’.\n",
        "\n",
        "Expected Output- August 15th 1947\n",
        "\n",
        "Note- Store given sample text in the text file and then extract the date string asked format.\n",
        "\n",
        ""
      ],
      "metadata": {
        "id": "B7Qjcq9IPFI9"
      }
    },
    {
      "cell_type": "code",
      "source": [
        "import re\n",
        "\n",
        "# Assume the text file is named 'data.txt'\n",
        "filename = 'data_cal.txt'\n",
        "\n",
        "pattern = r'\\b(January|February|March|April|May|June|July|August|September|October|November|December)\\s\\d{1,2}(?:st|nd|rd|th)?\\s\\d{4}\\b'\n",
        "\n",
        "with open(filename, 'r') as file:\n",
        "    data = file.read()\n",
        "    matches = re.findall(pattern, data)\n",
        "\n",
        "if matches:\n",
        "    print(\"Matched date:\")\n",
        "    print(matches[0])\n",
        "else:\n",
        "    print(\"No date matching the specified format found in the file.\")\n",
        "\n",
        ""
      ],
      "metadata": {
        "id": "DcqeJbJ4PDKx"
      },
      "execution_count": null,
      "outputs": []
    },
    {
      "cell_type": "markdown",
      "source": [
        "Question 15- Write a Python program to search some literals strings in a string.  \n",
        "\n",
        "Sample text : 'The quick brown fox jumps over the lazy dog.'\n",
        "\n",
        "Searched words : 'fox', 'dog', 'horse'"
      ],
      "metadata": {
        "id": "G8nneSx4PYO3"
      }
    },
    {
      "cell_type": "code",
      "source": [
        "\n",
        "\n",
        "def search_words(text, words):\n",
        "    found_words = []\n",
        "    for word in words:\n",
        "        if word in text:\n",
        "            found_words.append(word)\n",
        "    return found_words\n",
        "\n",
        "sample_text = 'The quick brown fox jumps over the lazy dog.'\n",
        "searched_words = ['fox', 'dog', 'horse']\n",
        "\n",
        "found_words = search_words(sample_text, searched_words)\n",
        "\n",
        "for word in found_words:\n",
        "    print(word)"
      ],
      "metadata": {
        "colab": {
          "base_uri": "https://localhost:8080/"
        },
        "id": "8_SvcLG5PZEe",
        "outputId": "a426d702-de13-43f0-8e1d-2427c5610489"
      },
      "execution_count": 49,
      "outputs": [
        {
          "output_type": "stream",
          "name": "stdout",
          "text": [
            "fox\n",
            "dog\n"
          ]
        }
      ]
    },
    {
      "cell_type": "markdown",
      "source": [
        "Question 16- Write a Python program to search a literals string in a string and also find the location within the original string where the pattern occurs\n",
        "\n",
        "Sample text : 'The quick brown fox jumps over the lazy dog.'\n",
        "\n",
        "Searched words : 'fox'"
      ],
      "metadata": {
        "id": "edO1eJt6PpUp"
      }
    },
    {
      "cell_type": "code",
      "source": [
        "def search_string(text, pattern):\n",
        "    locations = []\n",
        "    start = 0\n",
        "    while True:\n",
        "        index = text.find(pattern, start)\n",
        "        if index == -1:\n",
        "            break\n",
        "        locations.append(index)\n",
        "        start = index + 1\n",
        "    return locations\n",
        "\n",
        "sample_text = 'The quick brown fox jumps over the lazy dog.'\n",
        "searched_word = 'fox'\n",
        "\n",
        "locations = search_string(sample_text, searched_word)\n",
        "\n",
        "if locations:\n",
        "    print(f\"'{searched_word}' found at location(s):\")\n",
        "    for location in locations:\n",
        "        print(location)\n",
        "else:\n",
        "    print(f\"'{searched_word}' not found in  text.\")\n",
        "\n",
        ""
      ],
      "metadata": {
        "colab": {
          "base_uri": "https://localhost:8080/"
        },
        "id": "JgmW_9nQPszs",
        "outputId": "1e9d82be-9d26-4e29-a0cf-9102fbda42fa"
      },
      "execution_count": 53,
      "outputs": [
        {
          "output_type": "stream",
          "name": "stdout",
          "text": [
            "'fox' found at location(s):\n",
            "16\n"
          ]
        }
      ]
    },
    {
      "cell_type": "markdown",
      "source": [
        "Question 17- Write a Python program to find the substrings within a string.\n",
        "\n",
        "Sample text : 'Python exercises, PHP exercises, C# exercises'\n",
        "\n",
        "Pattern : 'exercises'."
      ],
      "metadata": {
        "id": "nWQz4ndyQExZ"
      }
    },
    {
      "cell_type": "code",
      "source": [
        "\n",
        "\n",
        "def find_substrings(text, pattern):\n",
        "    substrings = []\n",
        "    start = 0\n",
        "    while True:\n",
        "        index = text.find(pattern, start)\n",
        "        if index == -1:\n",
        "            break\n",
        "        substring = text[index: index + len(pattern)]\n",
        "        substrings.append(substring)\n",
        "        start = index + len(pattern)\n",
        "    return substrings\n",
        "\n",
        "sample_text = 'Python exercises, PHP exercises, C# exercises'\n",
        "pattern = 'exercises'\n",
        "\n",
        "found_substrings = find_substrings(sample_text, pattern)\n",
        "\n",
        "if found_substrings:\n",
        "    print(f\"Substrings found in'{pattern}':\")\n",
        "    for substring in found_substrings:\n",
        "        print(substring)\n",
        "else:\n",
        "    print(f\"No substrings found in  '{pattern}'.\")"
      ],
      "metadata": {
        "colab": {
          "base_uri": "https://localhost:8080/"
        },
        "id": "dN-r_JaoQCoa",
        "outputId": "c7f3db68-f3ad-4b00-bab0-799f38c70d2a"
      },
      "execution_count": 54,
      "outputs": [
        {
          "output_type": "stream",
          "name": "stdout",
          "text": [
            "Substrings found in'exercises':\n",
            "exercises\n",
            "exercises\n",
            "exercises\n"
          ]
        }
      ]
    },
    {
      "cell_type": "markdown",
      "source": [
        "Question 18- Write a Python program to find the occurrence and position of the substrings within a string."
      ],
      "metadata": {
        "id": "V5uhNbMrQZsN"
      }
    },
    {
      "cell_type": "code",
      "source": [
        "def find_substring_occurrence(text, substring):\n",
        "    occurrences = []\n",
        "\n",
        "    start = 0\n",
        "    while True:\n",
        "        index = text.find(substring, start)\n",
        "        if index == -1:\n",
        "            break\n",
        "        occurrences.append(index)\n",
        "        start = index + 1\n",
        "\n",
        "    return occurrences\n",
        "\n",
        "sample_text = 'Python is a powerful programming language. Python is widely used in data science and web development.'\n",
        "substring = 'Python'\n",
        "\n",
        "occurrences = find_substring_occurrence(sample_text, substring)\n",
        "\n",
        "if occurrences:\n",
        "    print(f\"The substring '{substring}' at the position(s):\")\n",
        "    for index in occurrences:\n",
        "        print(index)\n",
        "else:\n",
        "    print(f\"The substring '{substring}' does notin the  text.\")\n",
        "\n",
        ""
      ],
      "metadata": {
        "colab": {
          "base_uri": "https://localhost:8080/"
        },
        "id": "y5zl_0OoQddi",
        "outputId": "3fbe395e-f3f1-426a-f097-a4935fcd45aa"
      },
      "execution_count": 56,
      "outputs": [
        {
          "output_type": "stream",
          "name": "stdout",
          "text": [
            "The substring 'Python' at the position(s):\n",
            "0\n",
            "43\n"
          ]
        }
      ]
    },
    {
      "cell_type": "markdown",
      "source": [
        "Question 19- Write a Python program to convert a date of yyyy-mm-dd format to dd-mm-yyyy format."
      ],
      "metadata": {
        "id": "pkAw6bC-Qpxe"
      }
    },
    {
      "cell_type": "code",
      "source": [
        "def convert_date_format(date):\n",
        "    year, month, day = date.split('-')\n",
        "    return f\"{day}-{month}-{year}\"\n",
        "\n",
        "sample_date = \"2022-05-15\"\n",
        "converted_date = convert_date_format(sample_date)\n",
        "print(f\"The converted date is: {converted_date}\")"
      ],
      "metadata": {
        "colab": {
          "base_uri": "https://localhost:8080/"
        },
        "id": "-g7fC7vFQszl",
        "outputId": "ae8fa556-27b4-479c-d999-edf637623879"
      },
      "execution_count": 58,
      "outputs": [
        {
          "output_type": "stream",
          "name": "stdout",
          "text": [
            "The converted date is: 15-05-2022\n"
          ]
        }
      ]
    },
    {
      "cell_type": "markdown",
      "source": [
        "Question 20- Create a function in python to find all decimal numbers with a precision of 1 or 2 in a string. The use of the re.compile() method is mandatory.\n",
        "\n",
        "Sample Text: \"01.12 0132.123 2.31875 145.8 3.01 27.25 0.25\"\n",
        "\n",
        "Expected Output: ['01.12', '145.8', '3.01', '27.25', '0.25']"
      ],
      "metadata": {
        "id": "yW0fRu9QQ2kZ"
      }
    },
    {
      "cell_type": "code",
      "source": [
        "import re\n",
        "\n",
        "def find_decimal_numbers(text):\n",
        "    pattern = re.compile(r\"\\b\\d+\\.\\d{1,2}\\b\")\n",
        "    decimal_numbers = re.findall(pattern, text)\n",
        "    return decimal_numbers\n",
        "\n",
        "sample_text = \"01.12 0132.123 2.31875 145.8 3.01 27.25 0.25\"\n",
        "result = find_decimal_numbers(sample_text)\n",
        "print(result)"
      ],
      "metadata": {
        "colab": {
          "base_uri": "https://localhost:8080/"
        },
        "id": "DiRcidmVQ3vG",
        "outputId": "08a31392-3903-4cb6-a94e-fba1373d754a"
      },
      "execution_count": 59,
      "outputs": [
        {
          "output_type": "stream",
          "name": "stdout",
          "text": [
            "['01.12', '145.8', '3.01', '27.25', '0.25']\n"
          ]
        }
      ]
    },
    {
      "cell_type": "markdown",
      "source": [
        "Question 21- Write a Python program to separate and print the numbers and their position of a given string."
      ],
      "metadata": {
        "id": "6GTXmXZDRDV3"
      }
    },
    {
      "cell_type": "code",
      "source": [
        "def find_numbers_with_positions(string):\n",
        "    numbers = []\n",
        "    positions = []\n",
        "    current_number = \"\"\n",
        "    current_position = -1\n",
        "\n",
        "    for i, char in enumerate(string):\n",
        "        if char.isdigit() or char == '.':\n",
        "            current_number += char\n",
        "            if current_position == -1:\n",
        "                current_position = i\n",
        "        elif current_number:\n",
        "            numbers.append(current_number)\n",
        "            positions.append(current_position)\n",
        "            current_number = \"\"\n",
        "            current_position = -1\n",
        "\n",
        "    if current_number:\n",
        "        numbers.append(current_number)\n",
        "        positions.append(current_position)\n",
        "\n",
        "    return numbers, positions\n",
        "\n",
        "# Example usage:\n",
        "given_string = \"abc123xyz4.5pqr6\"\n",
        "numbers, positions = find_numbers_with_positions(given_string)\n",
        "\n",
        "print(\"Numbers:\", numbers)\n",
        "print(\"Positions:\", positions)"
      ],
      "metadata": {
        "colab": {
          "base_uri": "https://localhost:8080/"
        },
        "id": "P6zwVgBeRIuv",
        "outputId": "4c9c839a-f402-4aff-adac-46dd427a424e"
      },
      "execution_count": 60,
      "outputs": [
        {
          "output_type": "stream",
          "name": "stdout",
          "text": [
            "Numbers: ['123', '4.5', '6']\n",
            "Positions: [3, 9, 15]\n"
          ]
        }
      ]
    },
    {
      "cell_type": "markdown",
      "source": [
        "Question 22- Write a regular expression in python program to extract maximum/largest numeric value from a string.\n",
        "\n",
        "Sample Text:  'My marks in each semester are: 947, 896, 926, 524, 734, 950, 642'\n",
        "\n",
        "Expected Output: 950"
      ],
      "metadata": {
        "id": "uqNEbni_Rumc"
      }
    },
    {
      "cell_type": "code",
      "source": [
        "import re\n",
        "\n",
        "def extract_max_numeric_value(text):\n",
        "    # Define a regular expression to match numeric values\n",
        "    numeric_values = re.findall(r'\\b\\d+\\b', text)\n",
        "\n",
        "    # Convert the matched values to integers and find the maximum\n",
        "    max_numeric_value = max(map(int, numeric_values))\n",
        "\n",
        "    return max_numeric_value\n",
        "\n",
        "# Sample Text\n",
        "sample_text = 'My marks in each semester are: 947, 896, 926, 524, 734, 950, 642'\n",
        "\n",
        "# Extract and print the maximum numeric value\n",
        "result = extract_max_numeric_value(sample_text)\n",
        "print(\"Expected Output:\", result)\n"
      ],
      "metadata": {
        "colab": {
          "base_uri": "https://localhost:8080/"
        },
        "id": "0GbTIRnZRvn5",
        "outputId": "79f8c9a7-a97a-45fc-c97b-dd00d79764b7"
      },
      "execution_count": 62,
      "outputs": [
        {
          "output_type": "stream",
          "name": "stdout",
          "text": [
            "Expected Output: 950\n"
          ]
        }
      ]
    },
    {
      "cell_type": "markdown",
      "source": [
        "Question 23- Create a function in python to insert spaces between words starting with capital letters.\n",
        "\n",
        "Sample Text: “RegularExpressionIsAnImportantTopicInPython\"\n",
        "\n",
        "Expected Output: Regular Expression Is An Important Topic In Python\n",
        "\n"
      ],
      "metadata": {
        "id": "9t6WO6hnSlG4"
      }
    },
    {
      "cell_type": "code",
      "source": [
        "def insert_spaces(text):\n",
        "    result = \"\"\n",
        "    for char in text:\n",
        "        if char.isupper():\n",
        "            result += \" \" + char\n",
        "        else:\n",
        "            result += char\n",
        "    return result.strip()\n",
        "\n",
        "# Test the function\n",
        "sample_text = \"RegularExpressionIsAnImportantTopicInPython\"\n",
        "output = insert_spaces(sample_text)\n",
        "print(\"Text:\", sample_text)\n",
        "print(\"Output:\", output)"
      ],
      "metadata": {
        "colab": {
          "base_uri": "https://localhost:8080/"
        },
        "id": "SWym2RjRSnh1",
        "outputId": "859a25a6-f02a-45d0-d564-90de28808e26"
      },
      "execution_count": 64,
      "outputs": [
        {
          "output_type": "stream",
          "name": "stdout",
          "text": [
            "Text: RegularExpressionIsAnImportantTopicInPython\n",
            "Output: Regular Expression Is An Important Topic In Python\n"
          ]
        }
      ]
    },
    {
      "cell_type": "markdown",
      "source": [
        "Question 24- Python regex to find sequences of one upper case letter followed by lower case letters"
      ],
      "metadata": {
        "id": "HVeiOYWISu7D"
      }
    },
    {
      "cell_type": "code",
      "source": [
        "\n",
        "import re\n",
        "\n",
        "text = \"Hello World, OpenAI, AI Chatbot, GPT\"\n",
        "pattern = r\"[A-Z][a-z]+\"\n",
        "\n",
        "matches = re.findall(pattern, text)\n",
        "print(matches)"
      ],
      "metadata": {
        "colab": {
          "base_uri": "https://localhost:8080/"
        },
        "id": "VoX-jW_lSwHl",
        "outputId": "a84d3357-c5bb-44ab-cd92-8de5c73aa6b6"
      },
      "execution_count": 65,
      "outputs": [
        {
          "output_type": "stream",
          "name": "stdout",
          "text": [
            "['Hello', 'World', 'Open', 'Chatbot']\n"
          ]
        }
      ]
    },
    {
      "cell_type": "markdown",
      "source": [
        "Question 25- Write a Python program to remove continuous duplicate words from Sentence using Regular Expression.\n",
        "\n",
        "Sample Text: \"Hello hello world world\"\n",
        "\n",
        "Expected Output: Hello hello world\n"
      ],
      "metadata": {
        "id": "PLvPI5c9S9pY"
      }
    },
    {
      "cell_type": "code",
      "source": [
        "\n",
        "\n",
        "import re\n",
        "\n",
        "def remove_duplicates(sentence):\n",
        "    pattern = r\"\\b(\\w+)(\\s+\\1)+\\b\"\n",
        "    result = re.sub(pattern, r\"\\1\", sentence)\n",
        "    return result\n",
        "\n",
        "# Test the function\n",
        "sample_text = \"Hello hello world world\"\n",
        "output = remove_duplicates(sample_text)\n",
        "print(\"Sample Text:\", sample_text)\n",
        "print(\"Expected Output:\", output)"
      ],
      "metadata": {
        "colab": {
          "base_uri": "https://localhost:8080/"
        },
        "id": "cpj89YP1TAGm",
        "outputId": "da14f965-21b5-42e1-a6f8-53d4efef3289"
      },
      "execution_count": 66,
      "outputs": [
        {
          "output_type": "stream",
          "name": "stdout",
          "text": [
            "Sample Text: Hello hello world world\n",
            "Expected Output: Hello hello world\n"
          ]
        }
      ]
    },
    {
      "cell_type": "markdown",
      "source": [
        "Question 26-  Write a python program using RegEx to accept string ending with alphanumeric character.\n",
        "\n"
      ],
      "metadata": {
        "id": "fPo9BOZxTyK3"
      }
    },
    {
      "cell_type": "code",
      "source": [
        "import re\n",
        "\n",
        "def is_ending_alphanumeric(string):\n",
        "    pattern = r\".*\\w$\"\n",
        "    match = re.match(pattern, string)\n",
        "    if match:\n",
        "        return True\n",
        "    else:\n",
        "        return False\n",
        "\n",
        "# Test the function\n",
        "test_strings = [\"Hello123\", \"Goodbye!\", \"OpenAI4\", \"Regex123$\"]\n",
        "for string in test_strings:\n",
        "    if is_ending_alphanumeric(string):\n",
        "        print(f\"{string} is ending with an alphanumeric character.\")\n",
        "    else:\n",
        "        print(f\"{string} is not ending with an alphanumeric character.\")"
      ],
      "metadata": {
        "colab": {
          "base_uri": "https://localhost:8080/"
        },
        "id": "_2cyjCf2T0c3",
        "outputId": "2a018a8e-634b-410b-f4c4-b015c391ff68"
      },
      "execution_count": 68,
      "outputs": [
        {
          "output_type": "stream",
          "name": "stdout",
          "text": [
            "Hello123 is ending with an alphanumeric character.\n",
            "Goodbye! is not ending with an alphanumeric character.\n",
            "OpenAI4 is ending with an alphanumeric character.\n",
            "Regex123$ is not ending with an alphanumeric character.\n"
          ]
        }
      ]
    },
    {
      "cell_type": "markdown",
      "source": [
        "Question 27-Write a python program using RegEx to extract the hashtags.\n",
        "\n",
        "Sample Text:  \"\"\"RT @kapil_kausik: #Doltiwal I mean #xyzabc is \"hurt\" by #Demonetization as the same has rendered USELESS <ed><U+00A0><U+00BD><ed><U+00B1><U+0089> \"acquired funds\" No wo\"\"\"\n",
        "\n",
        "Expected Output: ['#Doltiwal', '#xyzabc', '#Demonetization']\n",
        "\n",
        ""
      ],
      "metadata": {
        "id": "zletOBg8Ur1Y"
      }
    },
    {
      "cell_type": "code",
      "source": [
        "import re\n",
        "\n",
        "def extract_hashtags(string):\n",
        "    pattern = r\"#\\w+\"\n",
        "    hashtags = re.findall(pattern, string)\n",
        "    return hashtags\n",
        "\n",
        "# Example usage:\n",
        "sample_text = \"\"\"RT @kapil_kausik: #Doltiwal I mean #xyzabc is \"hurt\" by #Demonetization as the same has rendered USELESS <ed><U+00A0><U+00BD><ed><U+00B1><U+0089> \"acquired funds\" No wo\"\"\"\n",
        "output = extract_hashtags(sample_text)\n",
        "print(output)"
      ],
      "metadata": {
        "colab": {
          "base_uri": "https://localhost:8080/"
        },
        "id": "AE1wrPkMUsxJ",
        "outputId": "48ede812-88e1-4727-dc49-beab2e6492e3"
      },
      "execution_count": 70,
      "outputs": [
        {
          "output_type": "stream",
          "name": "stdout",
          "text": [
            "['#Doltiwal', '#xyzabc', '#Demonetization']\n"
          ]
        }
      ]
    },
    {
      "cell_type": "markdown",
      "source": [
        "Question 28- Write a python program using RegEx to remove <U+..> like symbols\n",
        "\n",
        "Check the below sample text, there are strange symbols something of the sort <U+..> all over the place. You need to come up with a general Regex expression that will cover all such symbols.\n",
        "\n",
        "Sample Text: \"@Jags123456 Bharat band on 28??<ed><U+00A0><U+00BD><ed><U+00B8><U+0082>Those who  are protesting #demonetization  are all different party leaders\"\n",
        "\n",
        "Expected Output: @Jags123456 Bharat band on 28??<ed><ed>Those who  are protesting #demonetization  are all different party leaders"
      ],
      "metadata": {
        "id": "EYHKJb_dU4MD"
      }
    },
    {
      "cell_type": "code",
      "source": [
        "import re\n",
        "\n",
        "def remove_U_plus_symbols(string):\n",
        "    pattern = r\"<U\\+[A-F0-9a-f]+\\>\"\n",
        "    result = re.sub(pattern, '', string)\n",
        "    return result\n",
        "\n",
        "# Example usage:\n",
        "sample_text = \"@Jags123456 Bharat band on 28??<ed><U+00A0><U+00BD><ed><U+00B8><U+0082>Those who are protesting #demonetization are all different party leaders\"\n",
        "output = remove_U_plus_symbols(sample_text)\n",
        "\n",
        "print(\"Output:\", output)"
      ],
      "metadata": {
        "colab": {
          "base_uri": "https://localhost:8080/"
        },
        "id": "t0Ikze9xU8yI",
        "outputId": "40f1b6ce-db6d-4018-a908-26d3e14c375f"
      },
      "execution_count": 71,
      "outputs": [
        {
          "output_type": "stream",
          "name": "stdout",
          "text": [
            "Output: @Jags123456 Bharat band on 28??<ed><ed>Those who are protesting #demonetization are all different party leaders\n"
          ]
        }
      ]
    },
    {
      "cell_type": "markdown",
      "source": [
        "Question 29- Write a python program to extract dates from the text stored in the text file.\n",
        "\n",
        "Sample Text: Ron was born on 12-09-1992 and he was admitted to school 15-12-1999.\n",
        "\n",
        "Note- Store this sample text in the file and then extract dates."
      ],
      "metadata": {
        "id": "IDqnsWH1VRRd"
      }
    },
    {
      "cell_type": "code",
      "source": [
        "import re\n",
        "\n",
        "def extract_dates_from_file(file_path):\n",
        "    with open(file_path, 'r') as file:\n",
        "        text = file.read()\n",
        "\n",
        "    pattern = r\"\\b\\d{2}-\\d{2}-\\d{4}\\b\"\n",
        "    dates = re.findall(pattern, text)\n",
        "    return dates\n",
        "\n",
        "# Example usage:\n",
        "file_path = \"date.txt\"\n",
        "dates = extract_dates_from_file(file_path)\n",
        "\n",
        "print(\"Dates:\", dates)"
      ],
      "metadata": {
        "id": "xc8fA6AyVNMn"
      },
      "execution_count": null,
      "outputs": []
    },
    {
      "cell_type": "markdown",
      "source": [
        "Question 30- Create a function in python to remove all words from a string of length between 2 and 4.\n",
        "\n",
        "The use of the re.compile() method is mandatory.\n",
        "\n",
        "Sample Text: \"The following example creates an ArrayList with a capacity of 50 elements. 4 elements are then added to the ArrayList and the ArrayList is trimmed accordingly.\"\n",
        "\n",
        "Expected Output:  following example creates ArrayList a capacity elements. 4 elements added ArrayList ArrayList trimmed accordingly."
      ],
      "metadata": {
        "id": "Wp9szwc-VV5Z"
      }
    },
    {
      "cell_type": "code",
      "source": [
        "import re\n",
        "\n",
        "def remove_words_between_length2_and4(string):\n",
        "    pattern = re.compile(r'\\b\\w{2,4}\\b')\n",
        "    result = re.sub(pattern, '', string)\n",
        "    return result\n",
        "\n",
        "# Example usage:\n",
        "sample_text = \"The following example creates an ArrayList with a capacity of 50 elements. 4 elements are then added to the ArrayList and the ArrayList is trimmed accordingly.\"\n",
        "output = remove_words_between_length2_and4(sample_text)\n",
        "\n",
        "print(\"Output:\", output)"
      ],
      "metadata": {
        "colab": {
          "base_uri": "https://localhost:8080/"
        },
        "id": "qo_HttlYVcN-",
        "outputId": "b256baf5-3233-432e-ef82-f35b5e5c904f"
      },
      "execution_count": 73,
      "outputs": [
        {
          "output_type": "stream",
          "name": "stdout",
          "text": [
            "Output:  following example creates  ArrayList  a capacity   elements. 4 elements   added   ArrayList   ArrayList  trimmed accordingly.\n"
          ]
        }
      ]
    }
  ]
}